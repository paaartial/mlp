{
  "cells": [
    {
      "cell_type": "code",
      "source": [
        "import numpy as np\r\n",
        "import random\r\n",
        "import math\r\n",
        "import os\r\n",
        "\r\n",
        "np.random.seed(42)\r\n",
        "%matplotlib inline\r\n",
        "random.seed(42)\r\n",
        "\r\n",
        "import matplotlib as mpl\r\n",
        "import matplotlib.pyplot as plt\r\n",
        "\r\n",
        "mpl.rc('axes', labelsize=14)\r\n",
        "mpl.rc('xtick', labelsize=12)\r\n",
        "mpl.rc('ytick', labelsize=12)\r\n",
        "\r\n",
        "PROJECT_ROOT_DIR = \".\"\r\n",
        "CHAPTER_ID = \"classification\"\r\n",
        "IMAGES_PATH = os.path.join(PROJECT_ROOT_DIR, \"images\", CHAPTER_ID)\r\n",
        "os.makedirs(IMAGES_PATH, exist_ok=True)\r\n",
        "\r\n",
        "def save_fig(fig_id, tight_layout=True, fig_extension=\"png\", resolution=300):\r\n",
        "    path = os.path.join(IMAGES_PATH, fig_id + \".\" + fig_extension)\r\n",
        "    print(\"Saving figure\", fig_id)\r\n",
        "    if tight_layout:\r\n",
        "        plt.tight_layout()\r\n",
        "    plt.savefig(path, format=fig_extension, dpi=resolution)"
      ],
      "outputs": [],
      "execution_count": 1,
      "metadata": {
        "collapsed": true,
        "jupyter": {
          "source_hidden": false,
          "outputs_hidden": false
        },
        "nteract": {
          "transient": {
            "deleting": false
          }
        },
        "execution": {
          "iopub.status.busy": "2021-09-02T00:17:02.889Z",
          "iopub.execute_input": "2021-09-02T00:17:02.905Z",
          "iopub.status.idle": "2021-09-02T00:17:04.083Z",
          "shell.execute_reply": "2021-09-02T00:17:04.103Z"
        }
      }
    },
    {
      "cell_type": "code",
      "source": [
        "try:\r\n",
        "    from sklearn.datasets import fetch_openml\r\n",
        "    mnist = fetch_openml('mnist_784', version=1, cache=True, as_frame=False)\r\n",
        "    mnist.target = mnist.target.astype(np.int8) # fetch_openml() returns targets as strings\r\n",
        "    #sort_by_target(mnist) # fetch_openml() returns an unsorted dataset\r\n",
        "except ImportError:\r\n",
        "    from sklearn.datasets import fetch_mldata\r\n",
        "    mnist = fetch_mldata('MNIST original')\r\n",
        "X, y = mnist[\"data\"], mnist[\"target\"]"
      ],
      "outputs": [],
      "execution_count": 2,
      "metadata": {
        "collapsed": true,
        "jupyter": {
          "source_hidden": false,
          "outputs_hidden": false
        },
        "nteract": {
          "transient": {
            "deleting": false
          }
        },
        "execution": {
          "iopub.status.busy": "2021-09-02T00:17:20.535Z",
          "iopub.execute_input": "2021-09-02T00:17:20.548Z",
          "iopub.status.idle": "2021-09-02T00:17:43.864Z",
          "shell.execute_reply": "2021-09-02T00:17:43.874Z"
        }
      }
    },
    {
      "cell_type": "code",
      "source": [
        "def draw_image(img):\r\n",
        "    to_draw = img.reshape(28, 28)\r\n",
        "    plt.imshow(to_draw, cmap = mpl.cm.binary,\r\n",
        "            interpolation=\"nearest\")\r\n",
        "    plt.axis(\"off\")\r\n",
        "\r\n",
        "    save_fig(\"some_digit_plot\")\r\n",
        "    plt.show()"
      ],
      "outputs": [],
      "execution_count": 19,
      "metadata": {
        "collapsed": true,
        "jupyter": {
          "source_hidden": false,
          "outputs_hidden": false
        },
        "nteract": {
          "transient": {
            "deleting": false
          }
        },
        "execution": {
          "iopub.status.busy": "2021-09-02T00:19:58.289Z",
          "iopub.execute_input": "2021-09-02T00:19:58.296Z",
          "iopub.status.idle": "2021-09-02T00:19:58.308Z",
          "shell.execute_reply": "2021-09-02T00:19:58.381Z"
        }
      }
    },
    {
      "cell_type": "code",
      "source": [
        "def sigmoid(xl):\r\n",
        "    return [1/(1 + math.e**(-x)) for x in xl]\r\n",
        "\r\n",
        "def ReLu(xl):\r\n",
        "    return [x * (1+(x/np.abs(x)))/2 for x in xl]"
      ],
      "outputs": [],
      "execution_count": 4,
      "metadata": {
        "collapsed": true,
        "jupyter": {
          "source_hidden": false,
          "outputs_hidden": false
        },
        "nteract": {
          "transient": {
            "deleting": false
          }
        },
        "execution": {
          "iopub.status.busy": "2021-09-02T00:17:51.956Z",
          "iopub.execute_input": "2021-09-02T00:17:51.963Z",
          "iopub.status.idle": "2021-09-02T00:17:51.976Z",
          "shell.execute_reply": "2021-09-02T00:17:51.983Z"
        }
      }
    },
    {
      "cell_type": "code",
      "source": [
        "from numpy.random import default_rng as rng\r\n",
        "rng = np.random.default_rng()\r\n",
        "vals = rng.standard_normal(10)\r\n",
        "more_vals = rng.standard_normal(10)\r\n",
        "np.random.seed(42)\r\n",
        "try:\r\n",
        "    rng_integers = rng.integers\r\n",
        "except AttributeError:\r\n",
        "    rng_integers = rng.randint\r\n",
        "a = rng_integers(1000)\r\n",
        "a"
      ],
      "outputs": [
        {
          "output_type": "execute_result",
          "execution_count": 11,
          "data": {
            "text/plain": "456"
          },
          "metadata": {}
        }
      ],
      "execution_count": 11,
      "metadata": {
        "collapsed": true,
        "jupyter": {
          "source_hidden": false,
          "outputs_hidden": false
        },
        "nteract": {
          "transient": {
            "deleting": false
          }
        },
        "execution": {
          "iopub.status.busy": "2021-09-02T00:18:12.537Z",
          "iopub.execute_input": "2021-09-02T00:18:12.546Z",
          "iopub.status.idle": "2021-09-02T00:18:12.565Z",
          "shell.execute_reply": "2021-09-02T00:18:12.573Z"
        }
      }
    },
    {
      "cell_type": "code",
      "source": [
        "class Neuron:\r\n",
        "    \r\n",
        "    def __init__(self, w=[], a=0, b=0):\r\n",
        "        self.weights=w\r\n",
        "        self.act=a\r\n",
        "        self.bias=b\r\n",
        "    \r\n",
        "    def __repr__(self):\r\n",
        "        return \"act: \" + str(self.act)"
      ],
      "outputs": [],
      "execution_count": 12,
      "metadata": {
        "collapsed": true,
        "jupyter": {
          "source_hidden": false,
          "outputs_hidden": false
        },
        "nteract": {
          "transient": {
            "deleting": false
          }
        },
        "execution": {
          "iopub.status.busy": "2021-09-02T00:18:21.694Z",
          "iopub.execute_input": "2021-09-02T00:18:21.700Z",
          "iopub.status.idle": "2021-09-02T00:18:21.711Z",
          "shell.execute_reply": "2021-09-02T00:18:21.723Z"
        }
      }
    },
    {
      "cell_type": "code",
      "source": [
        "class Layer:\r\n",
        "\r\n",
        "    def __init__(self, l):\r\n",
        "        self.num_neurons=l\r\n",
        "        self.neurons=[Neuron() for n in range(self.num_neurons)]\r\n",
        "\r\n",
        "    def __len__(self):\r\n",
        "        return self.num_neurons\r\n",
        "\r\n",
        "    def __insert__(self, index, to_insert):\r\n",
        "        self.neurons.insert(index, to_insert)\r\n",
        "\r\n",
        "    def set_neuron(self, index, n):\r\n",
        "        self.neurons[index]=n\r\n",
        "\r\n",
        "    def activate_neurons(self, acts):\r\n",
        "        for n in range(self.num_neurons):\r\n",
        "            self.neurons[n].act=acts[n]\r\n",
        "\r\n",
        "    def nudge_neuron_weight(self, index, weight, to_nudge):\r\n",
        "        self.neurons[index].weights[weight]+=to_nudge\r\n",
        "\r\n",
        "    def get_biases(self):\r\n",
        "        biases=[n.bias for n in self.neurons]\r\n",
        "        return biases\r\n",
        "\r\n",
        "    def get_weight_matrix(self):\r\n",
        "        weight_matrix=[n.weights for n in self.neurons]\r\n",
        "        return weight_matrix\r\n",
        "\r\n",
        "    def get_activations(self):\r\n",
        "        activations = [n.act for n in self.neurons]\r\n",
        "        return activations\r\n",
        "\r\n",
        "    def __repr__(self):\r\n",
        "        to_print=\"\"\r\n",
        "        for n in self.neurons:\r\n",
        "            to_print+=str(n) + \"\\n\"\r\n",
        "        return to_print"
      ],
      "outputs": [],
      "execution_count": 13,
      "metadata": {
        "collapsed": true,
        "jupyter": {
          "source_hidden": false,
          "outputs_hidden": false
        },
        "nteract": {
          "transient": {
            "deleting": false
          }
        },
        "execution": {
          "iopub.status.busy": "2021-09-02T00:18:23.356Z",
          "iopub.execute_input": "2021-09-02T00:18:23.364Z",
          "iopub.status.idle": "2021-09-02T00:18:23.378Z",
          "shell.execute_reply": "2021-09-02T00:18:23.385Z"
        }
      }
    },
    {
      "cell_type": "code",
      "source": [
        "class Net:\r\n",
        "\r\n",
        "    def __init__(self, *args):\r\n",
        "        self.layers=args\r\n",
        "        self.input_layer=args[0]\r\n",
        "        self.hidden_layers=args[1:len(args)-1]\r\n",
        "        self.output_layer=args[len(args)-1]\r\n",
        "        #initializes network with random weights and biases for every neuron\r\n",
        "        for layer_index in range(1, len(self.layers)):\r\n",
        "            for n in self.layers[layer_index].neurons:\r\n",
        "                n.weights=[random.randint(-100, 100)/100 for n in range(len(self.layers[layer_index-1]))]\r\n",
        "                n.bias=random.randint(-100, 100)/100\r\n",
        "\r\n",
        "    def output(self, img):\r\n",
        "        for n in range(len(self.input_layer)):\r\n",
        "            self.input_layer.neurons[n].act=img[n]/254\r\n",
        "        for l in range(1, len(self.layers)):\r\n",
        "            wm=self.layers[l].get_weight_matrix()\r\n",
        "            acts=self.layers[l-1].get_activations()\r\n",
        "            b=self.layers[l].get_biases()\r\n",
        "            z=np.subtract(np.dot(wm, acts), b)\r\n",
        "            if l == len(self.layers):\r\n",
        "                self.layers[l].activate_neurons(sigmoid(z))\r\n",
        "            else:\r\n",
        "                self.layers[l].activate_neurons(ReLu(z))\r\n",
        "        greatest_act_index=0\r\n",
        "        output_acts=self.output_layer.get_activations()\r\n",
        "        for act_index in range(len(output_acts)):\r\n",
        "            if output_acts[act_index]>output_acts[greatest_act_index]:\r\n",
        "                greatest_act_index=act_index\r\n",
        "        print(greatest_act_index)\r\n",
        "        #return output_acts\r\n",
        "\r\n",
        "    def backpropogation(self):\r\n",
        "        pass\r\n",
        "\r\n",
        "    def train(self, train_set):\r\n",
        "        pass\r\n",
        "\r\n",
        "    def test(self, test_set):\r\n",
        "        pass    \r\n"
      ],
      "outputs": [],
      "execution_count": 89,
      "metadata": {
        "collapsed": true,
        "jupyter": {
          "source_hidden": false,
          "outputs_hidden": false
        },
        "nteract": {
          "transient": {
            "deleting": false
          }
        },
        "execution": {
          "iopub.status.busy": "2021-09-02T00:25:19.182Z",
          "iopub.execute_input": "2021-09-02T00:25:19.188Z",
          "iopub.status.idle": "2021-09-02T00:25:19.198Z",
          "shell.execute_reply": "2021-09-02T00:25:19.207Z"
        }
      }
    },
    {
      "cell_type": "code",
      "source": [
        "layer0=Layer(784)\r\n",
        "layer1=Layer(16)\r\n",
        "layer2=Layer(16)\r\n",
        "layer3=Layer(10)\r\n",
        "nn = Net(layer0, layer1, layer2, layer3)"
      ],
      "outputs": [],
      "execution_count": 95,
      "metadata": {
        "collapsed": true,
        "jupyter": {
          "source_hidden": false,
          "outputs_hidden": false
        },
        "nteract": {
          "transient": {
            "deleting": false
          }
        },
        "execution": {
          "iopub.status.busy": "2021-09-02T00:25:37.382Z",
          "iopub.execute_input": "2021-09-02T00:25:37.388Z",
          "iopub.status.idle": "2021-09-02T00:25:37.400Z",
          "shell.execute_reply": "2021-09-02T00:25:37.411Z"
        }
      }
    },
    {
      "cell_type": "code",
      "source": [
        "#draw_image(X[0])\r\n",
        "for image_index in range(0, 100):\r\n",
        "    nn.output(X[image_index])"
      ],
      "outputs": [
        {
          "output_type": "stream",
          "name": "stdout",
          "text": [
            "6\n",
            "6\n",
            "8\n",
            "6\n",
            "6\n",
            "7\n",
            "7\n",
            "7\n",
            "6\n",
            "7\n",
            "6\n",
            "6\n",
            "6\n",
            "6\n",
            "6\n",
            "7\n",
            "6\n",
            "6\n",
            "9\n",
            "6\n",
            "6\n",
            "6\n",
            "6\n",
            "6\n",
            "6\n",
            "6\n",
            "8\n",
            "6\n",
            "6\n",
            "6\n",
            "6\n",
            "7\n",
            "6\n",
            "7\n",
            "7\n",
            "7\n",
            "6\n",
            "6\n",
            "6\n",
            "6\n",
            "6\n",
            "6\n",
            "6\n",
            "6\n",
            "6\n",
            "6\n",
            "7\n",
            "7\n",
            "6\n",
            "6\n",
            "6\n",
            "8\n",
            "6\n",
            "6\n",
            "7\n",
            "6\n",
            "6\n",
            "6\n",
            "7\n",
            "6\n",
            "6\n",
            "6\n",
            "6\n",
            "8\n",
            "6\n",
            "6\n",
            "6\n",
            "6\n",
            "6\n",
            "6\n",
            "6\n",
            "7\n",
            "6\n",
            "6\n",
            "6\n",
            "8\n",
            "6\n",
            "6\n",
            "6\n",
            "6\n",
            "6\n",
            "7\n",
            "6\n",
            "6\n",
            "6\n",
            "6\n",
            "6\n",
            "6\n",
            "6\n",
            "6\n",
            "6\n",
            "6\n",
            "7\n",
            "6\n",
            "7\n",
            "6\n",
            "6\n",
            "6\n",
            "6\n",
            "6\n"
          ]
        }
      ],
      "execution_count": 96,
      "metadata": {
        "collapsed": true,
        "jupyter": {
          "source_hidden": false,
          "outputs_hidden": false
        },
        "nteract": {
          "transient": {
            "deleting": false
          }
        },
        "execution": {
          "iopub.status.busy": "2021-09-02T00:25:38.322Z",
          "iopub.execute_input": "2021-09-02T00:25:38.328Z",
          "iopub.status.idle": "2021-09-02T00:25:38.518Z",
          "shell.execute_reply": "2021-09-02T00:25:38.524Z"
        }
      }
    },
    {
      "cell_type": "code",
      "source": [
        "def split_train_test(data, target):\r\n",
        "    test=[]\r\n",
        "    train=[]\r\n",
        "    return train, test"
      ],
      "outputs": [
        {
          "output_type": "execute_result",
          "execution_count": 90,
          "data": {
            "text/plain": "array([0.19967378])"
          },
          "metadata": {}
        }
      ],
      "execution_count": 90,
      "metadata": {
        "collapsed": true,
        "jupyter": {
          "source_hidden": false,
          "outputs_hidden": false
        },
        "nteract": {
          "transient": {
            "deleting": false
          }
        },
        "execution": {
          "iopub.status.busy": "2021-09-01T04:21:53.535Z",
          "iopub.execute_input": "2021-09-01T04:21:53.542Z",
          "iopub.status.idle": "2021-09-01T04:21:53.558Z",
          "shell.execute_reply": "2021-09-01T04:21:53.564Z"
        }
      }
    }
  ],
  "metadata": {
    "kernel_info": {
      "name": "python3"
    },
    "language_info": {
      "name": "python",
      "version": "3.9.6",
      "mimetype": "text/x-python",
      "codemirror_mode": {
        "name": "ipython",
        "version": 3
      },
      "pygments_lexer": "ipython3",
      "nbconvert_exporter": "python",
      "file_extension": ".py"
    },
    "kernelspec": {
      "argv": [
        "python",
        "-m",
        "ipykernel_launcher",
        "-f",
        "{connection_file}"
      ],
      "display_name": "Python 3 (ipykernel)",
      "language": "python",
      "metadata": {
        "debugger": true
      },
      "name": "python3"
    },
    "nteract": {
      "version": "0.28.0"
    }
  },
  "nbformat": 4,
  "nbformat_minor": 0
}