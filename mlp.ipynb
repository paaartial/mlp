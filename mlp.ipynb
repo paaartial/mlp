{
  "cells": [
    {
      "cell_type": "code",
      "execution_count": 9,
      "source": [
        "import numpy as np\r\n",
        "import random\r\n",
        "import math\r\n",
        "import os\r\n",
        "\r\n",
        "np.random.seed(42)\r\n",
        "%matplotlib inline\r\n",
        "random.seed(42)\r\n",
        "\r\n",
        "import matplotlib as mpl\r\n",
        "import matplotlib.pyplot as plt\r\n",
        "\r\n",
        "mpl.rc('axes', labelsize=14)\r\n",
        "mpl.rc('xtick', labelsize=12)\r\n",
        "mpl.rc('ytick', labelsize=12)\r\n",
        "\r\n",
        "PROJECT_ROOT_DIR = \".\"\r\n",
        "CHAPTER_ID = \"classification\"\r\n",
        "IMAGES_PATH = os.path.join(PROJECT_ROOT_DIR, \"images\", CHAPTER_ID)\r\n",
        "os.makedirs(IMAGES_PATH, exist_ok=True)\r\n",
        "\r\n",
        "def save_fig(fig_id, tight_layout=True, fig_extension=\"png\", resolution=300):\r\n",
        "    path = os.path.join(IMAGES_PATH, fig_id + \".\" + fig_extension)\r\n",
        "    print(\"Saving figure\", fig_id)\r\n",
        "    if tight_layout:\r\n",
        "        plt.tight_layout()\r\n",
        "    plt.savefig(path, format=fig_extension, dpi=resolution)"
      ],
      "outputs": [],
      "metadata": {
        "collapsed": true,
        "jupyter": {
          "source_hidden": false,
          "outputs_hidden": false
        },
        "nteract": {
          "transient": {
            "deleting": false
          }
        },
        "execution": {
          "iopub.status.busy": "2021-09-02T00:17:02.889Z",
          "iopub.execute_input": "2021-09-02T00:17:02.905Z",
          "iopub.status.idle": "2021-09-02T00:17:04.083Z",
          "shell.execute_reply": "2021-09-02T00:17:04.103Z"
        }
      }
    },
    {
      "cell_type": "code",
      "execution_count": 10,
      "source": [
        "try:\r\n",
        "    from sklearn.datasets import fetch_openml\r\n",
        "    mnist = fetch_openml('mnist_784', version=1, cache=True, as_frame=False)\r\n",
        "    mnist.target = mnist.target.astype(np.int8) # fetch_openml() returns targets as strings\r\n",
        "    #sort_by_target(mnist) # fetch_openml() returns an unsorted dataset\r\n",
        "except ImportError:\r\n",
        "    from sklearn.datasets import fetch_mldata\r\n",
        "    mnist = fetch_mldata('MNIST original')\r\n",
        "X, y = mnist[\"data\"], mnist[\"target\"]"
      ],
      "outputs": [],
      "metadata": {
        "collapsed": true,
        "jupyter": {
          "source_hidden": false,
          "outputs_hidden": false
        },
        "nteract": {
          "transient": {
            "deleting": false
          }
        },
        "execution": {
          "iopub.status.busy": "2021-09-02T00:17:20.535Z",
          "iopub.execute_input": "2021-09-02T00:17:20.548Z",
          "iopub.status.idle": "2021-09-02T00:17:43.864Z",
          "shell.execute_reply": "2021-09-02T00:17:43.874Z"
        }
      }
    },
    {
      "cell_type": "code",
      "execution_count": 11,
      "source": [
        "def draw_image(img):\r\n",
        "    to_draw = img.reshape(28, 28)\r\n",
        "    plt.imshow(to_draw, cmap = mpl.cm.binary,\r\n",
        "            interpolation=\"nearest\")\r\n",
        "    plt.axis(\"off\")\r\n",
        "\r\n",
        "    save_fig(\"some_digit_plot\")\r\n",
        "    plt.show()"
      ],
      "outputs": [],
      "metadata": {
        "collapsed": true,
        "jupyter": {
          "source_hidden": false,
          "outputs_hidden": false
        },
        "nteract": {
          "transient": {
            "deleting": false
          }
        },
        "execution": {
          "iopub.status.busy": "2021-09-02T00:19:58.289Z",
          "iopub.execute_input": "2021-09-02T00:19:58.296Z",
          "iopub.status.idle": "2021-09-02T00:19:58.308Z",
          "shell.execute_reply": "2021-09-02T00:19:58.381Z"
        }
      }
    },
    {
      "cell_type": "code",
      "execution_count": 13,
      "source": [
        "from numpy.random import default_rng as rng\r\n",
        "rng = np.random.default_rng()\r\n",
        "vals = rng.standard_normal(10)\r\n",
        "more_vals = rng.standard_normal(10)\r\n",
        "np.random.seed(42)\r\n",
        "try:\r\n",
        "    rng_integers = rng.integers\r\n",
        "except AttributeError:\r\n",
        "    rng_integers = rng.randint\r\n",
        "a = rng_integers(1000)\r\n",
        "a"
      ],
      "outputs": [
        {
          "output_type": "execute_result",
          "data": {
            "text/plain": [
              "954"
            ]
          },
          "metadata": {},
          "execution_count": 13
        }
      ],
      "metadata": {
        "collapsed": true,
        "jupyter": {
          "source_hidden": false,
          "outputs_hidden": false
        },
        "nteract": {
          "transient": {
            "deleting": false
          }
        },
        "execution": {
          "iopub.status.busy": "2021-09-02T00:18:12.537Z",
          "iopub.execute_input": "2021-09-02T00:18:12.546Z",
          "iopub.status.idle": "2021-09-02T00:18:12.565Z",
          "shell.execute_reply": "2021-09-02T00:18:12.573Z"
        }
      }
    },
    {
      "cell_type": "code",
      "execution_count": 15,
      "source": [
        "from net import Net\r\n",
        "from layer import Layer\r\n",
        "\r\n",
        "layer0=Layer(784)\r\n",
        "layer1=Layer(16)\r\n",
        "layer2=Layer(16)\r\n",
        "layer3=Layer(10)\r\n",
        "nn = Net(layer0, layer1, layer2, layer3)"
      ],
      "outputs": [
        {
          "output_type": "error",
          "ename": "NameError",
          "evalue": "name 'Layer' is not defined",
          "traceback": [
            "\u001b[1;31m---------------------------------------------------------------------------\u001b[0m",
            "\u001b[1;31mNameError\u001b[0m                                 Traceback (most recent call last)",
            "\u001b[1;32m~\\AppData\\Local\\Temp/ipykernel_25060/1676433618.py\u001b[0m in \u001b[0;36m<module>\u001b[1;34m\u001b[0m\n\u001b[1;32m----> 1\u001b[1;33m \u001b[0mlayer0\u001b[0m\u001b[1;33m=\u001b[0m\u001b[0mLayer\u001b[0m\u001b[1;33m(\u001b[0m\u001b[1;36m784\u001b[0m\u001b[1;33m)\u001b[0m\u001b[1;33m\u001b[0m\u001b[1;33m\u001b[0m\u001b[0m\n\u001b[0m\u001b[0;32m      2\u001b[0m \u001b[0mlayer1\u001b[0m\u001b[1;33m=\u001b[0m\u001b[0mLayer\u001b[0m\u001b[1;33m(\u001b[0m\u001b[1;36m16\u001b[0m\u001b[1;33m)\u001b[0m\u001b[1;33m\u001b[0m\u001b[1;33m\u001b[0m\u001b[0m\n\u001b[0;32m      3\u001b[0m \u001b[0mlayer2\u001b[0m\u001b[1;33m=\u001b[0m\u001b[0mLayer\u001b[0m\u001b[1;33m(\u001b[0m\u001b[1;36m16\u001b[0m\u001b[1;33m)\u001b[0m\u001b[1;33m\u001b[0m\u001b[1;33m\u001b[0m\u001b[0m\n\u001b[0;32m      4\u001b[0m \u001b[0mlayer3\u001b[0m\u001b[1;33m=\u001b[0m\u001b[0mLayer\u001b[0m\u001b[1;33m(\u001b[0m\u001b[1;36m10\u001b[0m\u001b[1;33m)\u001b[0m\u001b[1;33m\u001b[0m\u001b[1;33m\u001b[0m\u001b[0m\n\u001b[0;32m      5\u001b[0m \u001b[0mnn\u001b[0m \u001b[1;33m=\u001b[0m \u001b[0mNet\u001b[0m\u001b[1;33m(\u001b[0m\u001b[0mlayer0\u001b[0m\u001b[1;33m,\u001b[0m \u001b[0mlayer1\u001b[0m\u001b[1;33m,\u001b[0m \u001b[0mlayer2\u001b[0m\u001b[1;33m,\u001b[0m \u001b[0mlayer3\u001b[0m\u001b[1;33m)\u001b[0m\u001b[1;33m\u001b[0m\u001b[1;33m\u001b[0m\u001b[0m\n",
            "\u001b[1;31mNameError\u001b[0m: name 'Layer' is not defined"
          ]
        }
      ],
      "metadata": {
        "collapsed": true,
        "jupyter": {
          "source_hidden": false,
          "outputs_hidden": false
        },
        "nteract": {
          "transient": {
            "deleting": false
          }
        },
        "execution": {
          "iopub.status.busy": "2021-09-02T00:25:37.382Z",
          "iopub.execute_input": "2021-09-02T00:25:37.388Z",
          "iopub.status.idle": "2021-09-02T00:25:37.400Z",
          "shell.execute_reply": "2021-09-02T00:25:37.411Z"
        }
      }
    },
    {
      "cell_type": "code",
      "execution_count": null,
      "source": [
        "#draw_image(X[0])\r\n",
        "for image_index in range(0, 100):\r\n",
        "    nn.output(X[image_index])"
      ],
      "outputs": [
        {
          "output_type": "stream",
          "name": "stdout",
          "text": [
            "6\n",
            "6\n",
            "8\n",
            "6\n",
            "6\n",
            "7\n",
            "7\n",
            "7\n",
            "6\n",
            "7\n",
            "6\n",
            "6\n",
            "6\n",
            "6\n",
            "6\n",
            "7\n",
            "6\n",
            "6\n",
            "9\n",
            "6\n",
            "6\n",
            "6\n",
            "6\n",
            "6\n",
            "6\n",
            "6\n",
            "8\n",
            "6\n",
            "6\n",
            "6\n",
            "6\n",
            "7\n",
            "6\n",
            "7\n",
            "7\n",
            "7\n",
            "6\n",
            "6\n",
            "6\n",
            "6\n",
            "6\n",
            "6\n",
            "6\n",
            "6\n",
            "6\n",
            "6\n",
            "7\n",
            "7\n",
            "6\n",
            "6\n",
            "6\n",
            "8\n",
            "6\n",
            "6\n",
            "7\n",
            "6\n",
            "6\n",
            "6\n",
            "7\n",
            "6\n",
            "6\n",
            "6\n",
            "6\n",
            "8\n",
            "6\n",
            "6\n",
            "6\n",
            "6\n",
            "6\n",
            "6\n",
            "6\n",
            "7\n",
            "6\n",
            "6\n",
            "6\n",
            "8\n",
            "6\n",
            "6\n",
            "6\n",
            "6\n",
            "6\n",
            "7\n",
            "6\n",
            "6\n",
            "6\n",
            "6\n",
            "6\n",
            "6\n",
            "6\n",
            "6\n",
            "6\n",
            "6\n",
            "7\n",
            "6\n",
            "7\n",
            "6\n",
            "6\n",
            "6\n",
            "6\n",
            "6\n"
          ]
        }
      ],
      "metadata": {
        "collapsed": true,
        "jupyter": {
          "source_hidden": false,
          "outputs_hidden": false
        },
        "nteract": {
          "transient": {
            "deleting": false
          }
        },
        "execution": {
          "iopub.status.busy": "2021-09-02T00:25:38.322Z",
          "iopub.execute_input": "2021-09-02T00:25:38.328Z",
          "iopub.status.idle": "2021-09-02T00:25:38.518Z",
          "shell.execute_reply": "2021-09-02T00:25:38.524Z"
        }
      }
    },
    {
      "cell_type": "code",
      "execution_count": null,
      "source": [
        "def split_train_test(data, target):\r\n",
        "    test=[]\r\n",
        "    train=[]\r\n",
        "    return train, test"
      ],
      "outputs": [
        {
          "output_type": "execute_result",
          "data": {
            "text/plain": [
              "array([0.19967378])"
            ]
          },
          "metadata": {},
          "execution_count": 90
        }
      ],
      "metadata": {
        "collapsed": true,
        "jupyter": {
          "source_hidden": false,
          "outputs_hidden": false
        },
        "nteract": {
          "transient": {
            "deleting": false
          }
        },
        "execution": {
          "iopub.status.busy": "2021-09-01T04:21:53.535Z",
          "iopub.execute_input": "2021-09-01T04:21:53.542Z",
          "iopub.status.idle": "2021-09-01T04:21:53.558Z",
          "shell.execute_reply": "2021-09-01T04:21:53.564Z"
        }
      }
    }
  ],
  "metadata": {
    "kernel_info": {
      "name": "python3"
    },
    "language_info": {
      "name": "python",
      "version": "3.9.6",
      "mimetype": "text/x-python",
      "codemirror_mode": {
        "name": "ipython",
        "version": 3
      },
      "pygments_lexer": "ipython3",
      "nbconvert_exporter": "python",
      "file_extension": ".py"
    },
    "kernelspec": {
      "name": "python3",
      "display_name": "Python 3.9.6 64-bit ('venv': venv)"
    },
    "nteract": {
      "version": "0.28.0"
    },
    "interpreter": {
      "hash": "68886a14a325778021eb8908aa96c6aab426a3d03c28ac05c78a3b2f112a144d"
    }
  },
  "nbformat": 4,
  "nbformat_minor": 2
}